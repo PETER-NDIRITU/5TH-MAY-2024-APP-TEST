{
  "nbformat": 4,
  "nbformat_minor": 0,
  "metadata": {
    "colab": {
      "provenance": [],
      "authorship_tag": "ABX9TyPQEO/5pNgcw5FiCPID6Mjc",
      "include_colab_link": true
    },
    "kernelspec": {
      "name": "python3",
      "display_name": "Python 3"
    },
    "language_info": {
      "name": "python"
    }
  },
  "cells": [
    {
      "cell_type": "markdown",
      "metadata": {
        "id": "view-in-github",
        "colab_type": "text"
      },
      "source": [
        "<a href=\"https://colab.research.google.com/github/PETER-NDIRITU/5TH-MAY-2024-APP-TEST/blob/main/Spatial_Deep_Learning_1.ipynb\" target=\"_parent\"><img src=\"https://colab.research.google.com/assets/colab-badge.svg\" alt=\"Open In Colab\"/></a>"
      ]
    },
    {
      "cell_type": "code",
      "execution_count": 4,
      "metadata": {
        "id": "O5Ns5ghiFuqL"
      },
      "outputs": [],
      "source": [
        "#how to display a Youtube video with Python\n",
        "from IPython.display import YouTubeVideo\n",
        "\n",
        "def display_youtube_video(url, **kwargs):\n",
        "  id_ = url.split(\"=\")[-1]\n",
        "  return YouTubeVideo(id_, **kwargs)\n",
        "\n",
        "\n",
        "# display_youtube_video('https://youtu.be/9UZsXRUIqXQ?list=PLtrmEEvdGsNqhBBl8QZEuITnCNprsMFFY', width=800, height=600)"
      ]
    },
    {
      "cell_type": "markdown",
      "source": [
        "# **TensorFlow 2 and Keras quickstart for geospatial computer vision**"
      ],
      "metadata": {
        "id": "4rx-yBoEhF78"
      }
    },
    {
      "cell_type": "markdown",
      "source": [
        "**Our objectives will be to:**\n",
        "\n",
        "\n",
        "\n",
        "*   Load prebuilt geospatial datasets.\n",
        "*   Build a neural network machine learning model that classifies images.\n",
        "\n",
        "*   Train this neural network.\n",
        "*   Evaluate the accuracy of the model.\n",
        "\n",
        "\n",
        "\n"
      ],
      "metadata": {
        "id": "CXps9sVKhSrk"
      }
    },
    {
      "cell_type": "code",
      "source": [
        "!python --version"
      ],
      "metadata": {
        "colab": {
          "base_uri": "https://localhost:8080/"
        },
        "id": "4XAHg2FrhnFl",
        "outputId": "72dd84a9-f780-4960-df06-779388ef5a3e"
      },
      "execution_count": 5,
      "outputs": [
        {
          "output_type": "stream",
          "name": "stdout",
          "text": [
            "Python 3.10.12\n"
          ]
        }
      ]
    },
    {
      "cell_type": "code",
      "source": [
        "#we install the necessary libraries\n",
        "!python -m pip install --upgrade pip\n",
        "!pip install -q rasterio==1.3.8\n",
        "!pip install -q geopandas==0.13.2\n",
        "!pip install -q radiant_mlhub\n",
        "!pip install -q tensorflow==2.8.0"
      ],
      "metadata": {
        "colab": {
          "base_uri": "https://localhost:8080/"
        },
        "id": "ujUVKq7lhxzQ",
        "outputId": "a35cb680-2988-4e4e-9153-173cffe20657"
      },
      "execution_count": 7,
      "outputs": [
        {
          "output_type": "stream",
          "name": "stdout",
          "text": [
            "Requirement already satisfied: pip in /usr/local/lib/python3.10/dist-packages (23.1.2)\n",
            "Collecting pip\n",
            "  Downloading pip-24.0-py3-none-any.whl (2.1 MB)\n",
            "\u001b[2K     \u001b[90m━━━━━━━━━━━━━━━━━━━━━━━━━━━━━━━━━━━━━━━━\u001b[0m \u001b[32m2.1/2.1 MB\u001b[0m \u001b[31m10.7 MB/s\u001b[0m eta \u001b[36m0:00:00\u001b[0m\n",
            "\u001b[?25hInstalling collected packages: pip\n",
            "  Attempting uninstall: pip\n",
            "    Found existing installation: pip 23.1.2\n",
            "    Uninstalling pip-23.1.2:\n",
            "      Successfully uninstalled pip-23.1.2\n",
            "Successfully installed pip-24.0\n",
            "\u001b[33mWARNING: Running pip as the 'root' user can result in broken permissions and conflicting behaviour with the system package manager. It is recommended to use a virtual environment instead: https://pip.pypa.io/warnings/venv\u001b[0m\u001b[33m\n",
            "\u001b[0m\u001b[33mWARNING: Running pip as the 'root' user can result in broken permissions and conflicting behaviour with the system package manager. It is recommended to use a virtual environment instead: https://pip.pypa.io/warnings/venv\u001b[0m\u001b[33m\n",
            "\u001b[0m\u001b[33mWARNING: Running pip as the 'root' user can result in broken permissions and conflicting behaviour with the system package manager. It is recommended to use a virtual environment instead: https://pip.pypa.io/warnings/venv\u001b[0m\u001b[33m\n",
            "\u001b[2K   \u001b[90m━━━━━━━━━━━━━━━━━━━━━━━━━━━━━━━━━━━━━━━━\u001b[0m \u001b[32m497.6/497.6 MB\u001b[0m \u001b[31m3.6 MB/s\u001b[0m eta \u001b[36m0:00:00\u001b[0m\n",
            "\u001b[2K   \u001b[90m━━━━━━━━━━━━━━━━━━━━━━━━━━━━━━━━━━━━━━━━\u001b[0m \u001b[32m462.5/462.5 kB\u001b[0m \u001b[31m16.5 MB/s\u001b[0m eta \u001b[36m0:00:00\u001b[0m\n",
            "\u001b[2K   \u001b[90m━━━━━━━━━━━━━━━━━━━━━━━━━━━━━━━━━━━━━━━━\u001b[0m \u001b[32m1.4/1.4 MB\u001b[0m \u001b[31m17.3 MB/s\u001b[0m eta \u001b[36m0:00:00\u001b[0m\n",
            "\u001b[2K   \u001b[90m━━━━━━━━━━━━━━━━━━━━━━━━━━━━━━━━━━━━━━━━\u001b[0m \u001b[32m42.6/42.6 kB\u001b[0m \u001b[31m2.8 MB/s\u001b[0m eta \u001b[36m0:00:00\u001b[0m\n",
            "\u001b[2K   \u001b[90m━━━━━━━━━━━━━━━━━━━━━━━━━━━━━━━━━━━━━━━━\u001b[0m \u001b[32m5.8/5.8 MB\u001b[0m \u001b[31m16.1 MB/s\u001b[0m eta \u001b[36m0:00:00\u001b[0m\n",
            "\u001b[2K   \u001b[90m━━━━━━━━━━━━━━━━━━━━━━━━━━━━━━━━━━━━━━━━\u001b[0m \u001b[32m4.9/4.9 MB\u001b[0m \u001b[31m16.6 MB/s\u001b[0m eta \u001b[36m0:00:00\u001b[0m\n",
            "\u001b[2K   \u001b[90m━━━━━━━━━━━━━━━━━━━━━━━━━━━━━━━━━━━━━━━━\u001b[0m \u001b[32m781.3/781.3 kB\u001b[0m \u001b[31m25.2 MB/s\u001b[0m eta \u001b[36m0:00:00\u001b[0m\n",
            "\u001b[?25h\u001b[31mERROR: pip's dependency resolver does not currently take into account all the packages that are installed. This behaviour is the source of the following dependency conflicts.\n",
            "pandas-gbq 0.19.2 requires google-auth-oauthlib>=0.7.0, but you have google-auth-oauthlib 0.4.6 which is incompatible.\n",
            "tf-keras 2.15.1 requires tensorflow<2.16,>=2.15, but you have tensorflow 2.8.0 which is incompatible.\u001b[0m\u001b[31m\n",
            "\u001b[0m\u001b[33mWARNING: Running pip as the 'root' user can result in broken permissions and conflicting behaviour with the system package manager. It is recommended to use a virtual environment instead: https://pip.pypa.io/warnings/venv\u001b[0m\u001b[33m\n",
            "\u001b[0m"
          ]
        }
      ]
    },
    {
      "cell_type": "code",
      "source": [
        "#we import the necesaary libraries\n",
        "import os, glob, functools, fnmatch, io, shutil, tarfile, json\n",
        "from zipfile import ZipFile\n",
        "from itertools import product\n",
        "from pathlib import Path\n",
        "from radiant_mlhub import Dataset, client, get_session, Collection\n",
        "import pandas as pd\n",
        "import urllib.request\n",
        "from sklearn.model_selection import train_test_split\n",
        "import numpy as np\n",
        "from PIL import Image\n",
        "import matplotlib.pyplot as plt\n",
        "import geopandas as gpd\n",
        "from google.colab import drive\n",
        "import tensorflow_datasets as tfds\n",
        "from tensorflow.keras.utils import plot_model"
      ],
      "metadata": {
        "id": "Tfa9Zf5biHu7"
      },
      "execution_count": 8,
      "outputs": []
    },
    {
      "cell_type": "code",
      "source": [
        "#we import tensorflow\n",
        "import tensorflow as tf\n",
        "print(\"Tensorflow version is :\", tf.__version__)"
      ],
      "metadata": {
        "colab": {
          "base_uri": "https://localhost:8080/"
        },
        "id": "UrK2Se1wkHpD",
        "outputId": "9f4823ad-3ed5-4624-e494-58517720fd7a"
      },
      "execution_count": 11,
      "outputs": [
        {
          "output_type": "stream",
          "name": "stdout",
          "text": [
            "Tensorflow version is : 2.15.0\n"
          ]
        }
      ]
    },
    {
      "cell_type": "code",
      "source": [
        "#lets mount our folders to read the data\n",
        "if 'google.colab' in str(get_ipython()):\n",
        "  #mount ggoogle drive\n",
        "  drive.mount('/content/gdrive')\n",
        "  processed_outputs_dir = '/content/gdrive/MyDrive/SpatialDeepLearning1_diroutputs'\n",
        "  user_outputs_dir = '/content/gdrive/MyDrive/SpatialDeepLearning1_dir'\n",
        "\n",
        "  if not os.path.exists(user_outputs_dir):\n",
        "      os.makedirs(user_outputs_dir)\n",
        "  print('Running on colab')\n",
        "\n",
        "else:\n",
        "  processed_outputs_dir = os.path.abspath(\"./data/SpatialDeepLearning1_diroutputs\")\n",
        "  user_outputs_dir = os.path_abspath('./SpatialDeepLearning1_dir')\n",
        "\n",
        "  if not os.path.exists(user_outputs_dir):\n",
        "    os.makedirs(user_outputs_dir)\n",
        "    os.makedirs(processed_outputs_dir)\n",
        "  print(f'Not running on Colab, data needs to be downloaded locally at{os.path.abspath(processed_outputs_dir)}')\n",
        "\n"
      ],
      "metadata": {
        "colab": {
          "base_uri": "https://localhost:8080/"
        },
        "id": "TBmXevR3kl0d",
        "outputId": "a7160bc3-f1c5-4316-adb2-39109c18b9a5"
      },
      "execution_count": 14,
      "outputs": [
        {
          "output_type": "stream",
          "name": "stdout",
          "text": [
            "Mounted at /content/gdrive\n",
            "Running on colab\n"
          ]
        }
      ]
    }
  ]
}